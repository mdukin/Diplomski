{
 "cells": [
  {
   "cell_type": "markdown",
   "id": "52fe4aab-391b-4f09-a5e0-438a60bbde85",
   "metadata": {},
   "source": [
    "# TOMI DZ 2"
   ]
  },
  {
   "cell_type": "markdown",
   "metadata": {},
   "source": [
    "#### setup"
   ]
  },
  {
   "cell_type": "code",
   "execution_count": 216,
   "id": "061c9c98-d679-4521-9ff6-56ceba78906e",
   "metadata": {},
   "outputs": [],
   "source": [
    "import numpy as np\n",
    "from IPython.display import display, Markdown\n",
    "\n",
    "def latex_matrica(matrix, m, n):\n",
    "\n",
    "    latex_str = f\" \\\\begin{{bmatrix}}\\n\" \n",
    "    for i in range(n):\n",
    "        row_str = \" & \".join(f\"{matrix[i, j]:.2f}\" for j in range(m))\n",
    "        latex_str += f\"{row_str} \\\\\\\\\\n\"\n",
    "    latex_str += \"\\\\end{bmatrix} \"\n",
    "\n",
    "    return latex_str\n",
    "\n",
    "def latex_vector(vector):\n",
    "    n = len(vector)\n",
    "\n",
    "    latex_str = f\" \\\\begin{{bmatrix}}\\n\" \n",
    "    for i in range(n):\n",
    "        latex_str += f\"{vector[i]:.5f} \\\\\\\\\\n\"\n",
    "    latex_str += \"\\\\end{bmatrix} \"\n",
    "\n",
    "    return latex_str"
   ]
  },
  {
   "cell_type": "code",
   "execution_count": 217,
   "metadata": {},
   "outputs": [],
   "source": [
    "\n",
    "def metoda_potencija(A, epsilon=np.pi*10**-5, x0 = np.array([ 1,1,1,1])):\n",
    "    y = x0\n",
    "    converged = False\n",
    "    while converged == False:\n",
    "        x = y / np.linalg.norm(y)\n",
    "        y = np.dot(A, x)\n",
    "        lmbda = np.dot(y.T, x)\n",
    "        converged = np.linalg.norm( y - np.dot(lmbda,x)) <= epsilon\n",
    "    \n",
    "    x_real = np.real( np.linalg.eig(A)[1][:, 0]) \n",
    "    \n",
    "    return x,x_real"
   ]
  },
  {
   "cell_type": "code",
   "execution_count": 218,
   "metadata": {},
   "outputs": [],
   "source": [
    "tezine_kriterija = np.array([[1, 1/2, 5],\n",
    "                             [2, 1, 5],\n",
    "                             [1/5, 1/5, 1]])\n",
    "\n",
    "tezine_za_cijenu = np.array([[1, 1/4, 1/7, 1/7],\n",
    "                            [4, 1, 1/2, 1/2],\n",
    "                            [7, 2, 1, 1/2],\n",
    "                            [7, 2, 2, 1]])\n",
    "\n",
    "tezine_za_kameru = np.array([[1, 2, 6, 7],\n",
    "                            [1/2, 1, 6, 6],\n",
    "                            [1/6, 1/6, 1, 1/3],\n",
    "                            [1/7, 1/6, 3, 1]])\n",
    "\n",
    "tezine_za_bateriju = np.array([[14],\n",
    "                               [12],\n",
    "                               [10],\n",
    "                               [8] ])"
   ]
  },
  {
   "cell_type": "markdown",
   "metadata": {},
   "source": [
    "## Zadatak\n",
    "\n",
    "Doroteja želi kupiti novi mobitel i razmišlja između sljedećih marki: iphone, samsung, huawei i xiaomi.<br>\n",
    "Želi odlučiti na temelju 3 kriterija a to su cijena, kvaliteta kamere i baterije. <br>\n",
    "Kvaliteta kamere joj je za malo bitnija od cijene jer voli fotografirati a ima novaca jer je radila na sezoni dok joj je život baterije najmanje bitan."
   ]
  },
  {
   "cell_type": "markdown",
   "metadata": {},
   "source": [
    "### Kriteriji"
   ]
  },
  {
   "cell_type": "code",
   "execution_count": 219,
   "metadata": {},
   "outputs": [
    {
     "data": {
      "text/markdown": [
       " \\begin{bmatrix}\n",
       "1.00 & 0.50 & 5.00 \\\\\n",
       "2.00 & 1.00 & 5.00 \\\\\n",
       "0.20 & 0.20 & 1.00 \\\\\n",
       "\\end{bmatrix} =Matrica Kriterija(cijena, kamera, baterija)"
      ],
      "text/plain": [
       "<IPython.core.display.Markdown object>"
      ]
     },
     "metadata": {},
     "output_type": "display_data"
    },
    {
     "data": {
      "text/markdown": [
       " \\begin{bmatrix}\n",
       "0.52827 \\\\\n",
       "0.83858 \\\\\n",
       "0.13311 \\\\\n",
       "\\end{bmatrix} =SvojstveniVektor \\begin{bmatrix}\n",
       "0.52827 \\\\\n",
       "0.83858 \\\\\n",
       "0.13312 \\\\\n",
       "\\end{bmatrix} = PraviSvojstveniVektor"
      ],
      "text/plain": [
       "<IPython.core.display.Markdown object>"
      ]
     },
     "metadata": {},
     "output_type": "display_data"
    }
   ],
   "source": [
    "\n",
    "display(Markdown(latex_matrica(tezine_kriterija, n=3, m=3) + \"=Matrica Kriterija(cijena, kamera, baterija)\" ))\n",
    "\n",
    "x0, x_real = metoda_potencija(tezine_kriterija,x0=np.array([1,1,1]))\n",
    "\n",
    "display(Markdown(latex_vector(x0)+ \"=SvojstveniVektor\" + latex_vector(x_real) + \"= PraviSvojstveniVektor\"))\n",
    "\n",
    "\n"
   ]
  },
  {
   "cell_type": "markdown",
   "metadata": {},
   "source": [
    "Svojstveni vektor dobiven algoritmom potencija skoro je identičan pravom svojstvenom vektoru zbog vrlo malog epsilona.<br>\n",
    "Kao što smo i očekivali, kvaliteta kamere ima najveći prioritet, zatim cijena i na kraju vijek baterije.<br>\n",
    "<br>\n",
    "Nastavimo dalje za svaki kritetij vidjeti poredak marki."
   ]
  },
  {
   "cell_type": "markdown",
   "metadata": {},
   "source": [
    "### Cijena"
   ]
  },
  {
   "cell_type": "code",
   "execution_count": 220,
   "metadata": {},
   "outputs": [
    {
     "data": {
      "text/markdown": [
       " \\begin{bmatrix}\n",
       "1.00 & 0.25 & 0.14 & 0.14 \\\\\n",
       "4.00 & 1.00 & 0.50 & 0.50 \\\\\n",
       "7.00 & 2.00 & 1.00 & 0.50 \\\\\n",
       "7.00 & 2.00 & 2.00 & 1.00 \\\\\n",
       "\\end{bmatrix} =Matrica Cijena(Iphone,Samsung,Huawei,Xiaomi)"
      ],
      "text/plain": [
       "<IPython.core.display.Markdown object>"
      ]
     },
     "metadata": {},
     "output_type": "display_data"
    },
    {
     "data": {
      "text/markdown": [
       " \\begin{bmatrix}\n",
       "0.08794 \\\\\n",
       "0.32872 \\\\\n",
       "0.54116 \\\\\n",
       "0.76900 \\\\\n",
       "\\end{bmatrix} =SvojstveniVektor \\begin{bmatrix}\n",
       "0.08794 \\\\\n",
       "0.32872 \\\\\n",
       "0.54116 \\\\\n",
       "0.76899 \\\\\n",
       "\\end{bmatrix} = PraviSvojstveniVektor"
      ],
      "text/plain": [
       "<IPython.core.display.Markdown object>"
      ]
     },
     "metadata": {},
     "output_type": "display_data"
    }
   ],
   "source": [
    "display(Markdown(latex_matrica(tezine_za_cijenu, n=4, m=4) + \"=Matrica Cijena(Iphone,Samsung,Huawei,Xiaomi)\" ))\n",
    "\n",
    "x1, x_real = metoda_potencija(tezine_za_cijenu)\n",
    "\n",
    "display(Markdown(latex_vector(x1)+ \"=SvojstveniVektor\" + latex_vector(x_real) + \"= PraviSvojstveniVektor\"))\n",
    "\n"
   ]
  },
  {
   "cell_type": "markdown",
   "metadata": {},
   "source": [
    "### Kamera"
   ]
  },
  {
   "cell_type": "code",
   "execution_count": 221,
   "metadata": {},
   "outputs": [
    {
     "data": {
      "text/markdown": [
       " \\begin{bmatrix}\n",
       "1.00 & 2.00 & 6.00 & 7.00 \\\\\n",
       "0.50 & 1.00 & 6.00 & 6.00 \\\\\n",
       "0.17 & 0.17 & 1.00 & 0.33 \\\\\n",
       "0.14 & 0.17 & 3.00 & 1.00 \\\\\n",
       "\\end{bmatrix} =Matrica Kvalitete Kamera(Iphone,Samsung,Huawei,Xiaomi)"
      ],
      "text/plain": [
       "<IPython.core.display.Markdown object>"
      ]
     },
     "metadata": {},
     "output_type": "display_data"
    },
    {
     "data": {
      "text/markdown": [
       " \\begin{bmatrix}\n",
       "0.81551 \\\\\n",
       "0.55388 \\\\\n",
       "0.08563 \\\\\n",
       "0.14431 \\\\\n",
       "\\end{bmatrix} =SvojstveniVektor \\begin{bmatrix}\n",
       "0.81551 \\\\\n",
       "0.55388 \\\\\n",
       "0.08563 \\\\\n",
       "0.14431 \\\\\n",
       "\\end{bmatrix} = PraviSvojstveniVektor"
      ],
      "text/plain": [
       "<IPython.core.display.Markdown object>"
      ]
     },
     "metadata": {},
     "output_type": "display_data"
    }
   ],
   "source": [
    "display(Markdown(latex_matrica(tezine_za_kameru, n=4, m=4) + \"=Matrica Kvalitete Kamera(Iphone,Samsung,Huawei,Xiaomi)\" ))\n",
    "\n",
    "x2, x_real = metoda_potencija(tezine_za_kameru)\n",
    "\n",
    "display(Markdown(latex_vector(x2)+ \"=SvojstveniVektor\" + latex_vector(x_real) + \"= PraviSvojstveniVektor\"))\n"
   ]
  },
  {
   "cell_type": "markdown",
   "metadata": {},
   "source": [
    "### Baterija"
   ]
  },
  {
   "cell_type": "code",
   "execution_count": 222,
   "metadata": {},
   "outputs": [
    {
     "data": {
      "text/markdown": [
       " \\begin{bmatrix}\n",
       "14.00 \\\\\n",
       "12.00 \\\\\n",
       "10.00 \\\\\n",
       "8.00 \\\\\n",
       "\\end{bmatrix} =Vektor Trajanja Baterije U Satima(Iphone,Samsung,Huawei,Xiaomi)"
      ],
      "text/plain": [
       "<IPython.core.display.Markdown object>"
      ]
     },
     "metadata": {},
     "output_type": "display_data"
    },
    {
     "data": {
      "text/markdown": [
       " \\begin{bmatrix}\n",
       "0.62 \\\\\n",
       "0.53 \\\\\n",
       "0.45 \\\\\n",
       "0.36 \\\\\n",
       "\\end{bmatrix} =SvojstveniVektor"
      ],
      "text/plain": [
       "<IPython.core.display.Markdown object>"
      ]
     },
     "metadata": {},
     "output_type": "display_data"
    }
   ],
   "source": [
    "display(Markdown(latex_matrica(tezine_za_bateriju, n=4, m=1) + \"=Vektor Trajanja Baterije U Satima(Iphone,Samsung,Huawei,Xiaomi)\" ))\n",
    "\n",
    "x3 = tezine_za_bateriju / np.linalg.norm(tezine_za_bateriju) \n",
    "\n",
    "display(Markdown((latex_matrica(x3, n=4, m=1)+ \"=SvojstveniVektor\" ) ))"
   ]
  },
  {
   "cell_type": "markdown",
   "metadata": {},
   "source": [
    "Ovdje smo samo podijelili početni vektor sa njegovom drugom normom i dobili tezine za kriterij."
   ]
  },
  {
   "cell_type": "markdown",
   "metadata": {},
   "source": [
    "Na kraju, vektore tezina alternativa, s obzirom na svaki od kriterija, trebamo poredati <br>\n",
    "u matricu (kao stupce) te tu matricu pomnoziti s vektorom težina kriterija, pa onda  <br>\n",
    "dobivamo sljedece:"
   ]
  },
  {
   "cell_type": "code",
   "execution_count": 223,
   "metadata": {},
   "outputs": [
    {
     "data": {
      "text/markdown": [
       " \\begin{bmatrix}\n",
       "0.09 & 0.82 & 0.62 \\\\\n",
       "0.33 & 0.55 & 0.53 \\\\\n",
       "0.54 & 0.09 & 0.45 \\\\\n",
       "0.77 & 0.14 & 0.36 \\\\\n",
       "\\end{bmatrix} (Iphone,Samsung,Huawei,Xiaomi)x(Cijena,Kamera,Baterija) *  \\begin{bmatrix}\n",
       "0.52827 \\\\\n",
       "0.83858 \\\\\n",
       "0.13311 \\\\\n",
       "\\end{bmatrix} (Cijena,Kamera,Baterija)"
      ],
      "text/plain": [
       "<IPython.core.display.Markdown object>"
      ]
     },
     "metadata": {},
     "output_type": "display_data"
    },
    {
     "data": {
      "text/markdown": [
       " \\begin{bmatrix}\n",
       "0.81334 \\\\\n",
       "0.70928 \\\\\n",
       "0.41698 \\\\\n",
       "0.57469 \\\\\n",
       "\\end{bmatrix} =ukupneTezine"
      ],
      "text/plain": [
       "<IPython.core.display.Markdown object>"
      ]
     },
     "metadata": {},
     "output_type": "display_data"
    }
   ],
   "source": [
    "\n",
    "konacna_matrica = np.column_stack((x1, x2, x3))\n",
    "\n",
    "display(Markdown(latex_matrica(konacna_matrica, n=4, m=3) + \"(Iphone,Samsung,Huawei,Xiaomi)x(Cijena,Kamera,Baterija) * \" + latex_vector(x0)  + \"(Cijena,Kamera,Baterija)\") )\n",
    "\n",
    "rez = np.dot(konacna_matrica, x0)\n",
    "\n",
    "display(Markdown(latex_vector(rez) + \"=ukupneTezine\") )\n"
   ]
  },
  {
   "cell_type": "markdown",
   "metadata": {},
   "source": [
    "Iz konačnog rezultata vidimo da će Doroteja kupiti Iphone"
   ]
  }
 ],
 "metadata": {
  "kernelspec": {
   "display_name": "Python 3 (ipykernel)",
   "language": "python",
   "name": "python3"
  },
  "language_info": {
   "codemirror_mode": {
    "name": "ipython",
    "version": 3
   },
   "file_extension": ".py",
   "mimetype": "text/x-python",
   "name": "python",
   "nbconvert_exporter": "python",
   "pygments_lexer": "ipython3",
   "version": "3.11.4"
  }
 },
 "nbformat": 4,
 "nbformat_minor": 5
}
